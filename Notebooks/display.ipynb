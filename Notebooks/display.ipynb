{
 "cells": [
  {
   "cell_type": "markdown",
   "metadata": {},
   "source": [
    "# This notebook contains the code and figures for the data from measuring display latencies"
   ]
  },
  {
   "cell_type": "markdown",
   "metadata": {},
   "source": [
    "What data do we have?\n",
    "\n",
    "    A. Light intensity over time\n",
    "    B. (A) for multiple trials\n",
    "    C. (B) for different frame rate (FR), resolution, and modes\n",
    "    D. (C) for different monitor/projector"
   ]
  },
  {
   "cell_type": "markdown",
   "metadata": {},
   "source": [
    "What information to extract?\n",
    "\n",
    "    A. How light is being shone by the monitor/projector in every trial\n",
    "    B. How does the latency changes ove time\n",
    "    C. Distribution of light intensity for the whole experiment - histogram of (A)\n",
    "    D. Distribution of latencies for the whole experiment\n",
    "    E. (A, B, C, and D) across different FR, resolution, modes\n",
    "    F. (A, B, C, and D) across different monitors (For the same FR, resolution, modes)\n",
    "    G. Mean latency versus FR across across different monitors\n",
    "    H. Mean latency versus Resolution across different monitors\n",
    "    \n",
    "Related to our device: \n",
    "\n",
    "    I. What is the sampling frequency of our device"
   ]
  },
  {
   "cell_type": "markdown",
   "metadata": {},
   "source": [
    "---"
   ]
  },
  {
   "cell_type": "code",
   "execution_count": 1,
   "metadata": {},
   "outputs": [],
   "source": [
    "import pandas as pd\n",
    "import numpy as np\n",
    "import matplotlib.pyplot as plt\n",
    "import seaborn as sns\n",
    "\n",
    "import vrlatency as vrl"
   ]
  },
  {
   "cell_type": "code",
   "execution_count": null,
   "metadata": {},
   "outputs": [],
   "source": []
  }
 ],
 "metadata": {
  "kernelspec": {
   "display_name": "Python 3",
   "language": "python",
   "name": "python3"
  },
  "language_info": {
   "codemirror_mode": {
    "name": "ipython",
    "version": 3
   },
   "file_extension": ".py",
   "mimetype": "text/x-python",
   "name": "python",
   "nbconvert_exporter": "python",
   "pygments_lexer": "ipython3",
   "version": "3.6.5"
  }
 },
 "nbformat": 4,
 "nbformat_minor": 2
}
